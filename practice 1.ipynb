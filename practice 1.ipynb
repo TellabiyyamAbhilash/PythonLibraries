{
 "cells": [
  {
   "cell_type": "code",
   "execution_count": 1,
   "id": "4fa79e5e-4707-4263-8bed-b1bbe26701b9",
   "metadata": {},
   "outputs": [
    {
     "name": "stdout",
     "output_type": "stream",
     "text": [
      "Requirement already satisfied: numpy in c:\\users\\abhil\\appdata\\local\\programs\\python\\python312\\lib\\site-packages (2.0.0)\n",
      "Note: you may need to restart the kernel to use updated packages.\n"
     ]
    },
    {
     "name": "stderr",
     "output_type": "stream",
     "text": [
      "\n",
      "[notice] A new release of pip is available: 24.0 -> 24.1.1\n",
      "[notice] To update, run: python.exe -m pip install --upgrade pip\n"
     ]
    }
   ],
   "source": [
    "pip install numpy"
   ]
  },
  {
   "cell_type": "code",
   "execution_count": 2,
   "id": "f1c4bd08-c79e-4c8e-aa39-9c276002625f",
   "metadata": {},
   "outputs": [],
   "source": [
    "import numpy as np"
   ]
  },
  {
   "cell_type": "code",
   "execution_count": 3,
   "id": "a9d3c57a-657e-4748-a466-03bebb82ec31",
   "metadata": {},
   "outputs": [
    {
     "name": "stdout",
     "output_type": "stream",
     "text": [
      "[1 2 3 4]\n"
     ]
    }
   ],
   "source": [
    "l= [1,2,3,4]\n",
    "arr = np.array(l)\n",
    "print(arr)"
   ]
  },
  {
   "cell_type": "code",
   "execution_count": 4,
   "id": "395c5e5d-f9d6-4cb9-85bd-081335f5ebfe",
   "metadata": {},
   "outputs": [
    {
     "data": {
      "text/plain": [
       "numpy.ndarray"
      ]
     },
     "execution_count": 4,
     "metadata": {},
     "output_type": "execute_result"
    }
   ],
   "source": [
    "type(arr)"
   ]
  },
  {
   "cell_type": "code",
   "execution_count": 5,
   "id": "e6be42dc-0457-4ab6-9941-2b8c3c19fc46",
   "metadata": {},
   "outputs": [
    {
     "name": "stdout",
     "output_type": "stream",
     "text": [
      "[[1 2 3]\n",
      " [4 5 6]]\n"
     ]
    }
   ],
   "source": [
    "l2 = [[1,2,3],[4,5,6]]\n",
    "arr2 = np.array(l2)\n",
    "print(arr2)"
   ]
  },
  {
   "cell_type": "code",
   "execution_count": 6,
   "id": "2bfdcf83-d645-449e-9a8e-88355f1efd2e",
   "metadata": {},
   "outputs": [
    {
     "name": "stdout",
     "output_type": "stream",
     "text": [
      "[1 2 3 4]\n",
      "[[1 4]\n",
      " [2 5]\n",
      " [3 6]]\n"
     ]
    }
   ],
   "source": [
    "print(arr.transpose())\n",
    "print(arr2.transpose())\n"
   ]
  },
  {
   "cell_type": "code",
   "execution_count": 7,
   "id": "44d7fe28-3f27-4bb0-80ee-69558c3b0cce",
   "metadata": {},
   "outputs": [
    {
     "name": "stdout",
     "output_type": "stream",
     "text": [
      "[[      3112641647160                  57                   0\n",
      "                    0]\n",
      " [       223338299392 7074711247546115435 3256721973914712373\n",
      "  3847820301160637797]\n",
      " [3759720871130901861 3486684624719458353 7162263158364976484\n",
      "  8462385098680267893]]\n"
     ]
    }
   ],
   "source": [
    "print(np.empty((3,4),dtype = int))\n"
   ]
  },
  {
   "cell_type": "code",
   "execution_count": 8,
   "id": "ef88f2f0-1f30-4f6d-b1e1-868e91c4a9bf",
   "metadata": {},
   "outputs": [
    {
     "name": "stdout",
     "output_type": "stream",
     "text": [
      "[[ True  True  True]\n",
      " [ True  True  True]\n",
      " [ True  True  True]]\n",
      "[[False False False]\n",
      " [False False False]\n",
      " [False False False]]\n"
     ]
    }
   ],
   "source": [
    "print(np.ones((3,3),dtype = bool))\n",
    "print(np.zeros((3,3),dtype = bool))\n"
   ]
  },
  {
   "cell_type": "code",
   "execution_count": 9,
   "id": "216e7bbd-d83f-47bd-9a16-513022a21ec1",
   "metadata": {
    "collapsed": true,
    "jupyter": {
     "outputs_hidden": true
    }
   },
   "outputs": [
    {
     "name": "stdout",
     "output_type": "stream",
     "text": [
      "50 50\n",
      "[ 1  2  3  4  5  6  7  8  9 10 11 12 13 14 15 16 17 18 19 20 21 22 23 24\n",
      " 25 26 27 28 29 30 31 32 33 34 35 36 37 38 39 40 41 42 43 44 45 46 47 48\n",
      " 49 50]\n",
      "[ 1  3  5  7  9 11 13 15 17 19 21 23 25 27 29 31 33 35 37 39 41 43 45 47\n",
      " 49 51 53 55 57 59 61 63 65 67 69 71 73 75 77 79 81 83 85 87 89 91 93 95\n",
      " 97 99]\n"
     ]
    }
   ],
   "source": [
    "a = np.arange(1,51)\n",
    "b = np.arange(1,101,2)\n",
    "print(len(a),len(b))\n",
    "print(a)\n",
    "print(b)\n"
   ]
  },
  {
   "cell_type": "code",
   "execution_count": 10,
   "id": "39fe8c4d-0ed5-48ec-8500-fff43b199675",
   "metadata": {
    "scrolled": true
   },
   "outputs": [
    {
     "name": "stdout",
     "output_type": "stream",
     "text": [
      "[[ 1  2  3  4  5]\n",
      " [ 6  7  8  9 10]\n",
      " [11 12 13 14 15]\n",
      " [16 17 18 19 20]\n",
      " [21 22 23 24 25]\n",
      " [26 27 28 29 30]\n",
      " [31 32 33 34 35]\n",
      " [36 37 38 39 40]\n",
      " [41 42 43 44 45]\n",
      " [46 47 48 49 50]]\n",
      "[[ 1  3  5  7  9 11 13 15 17 19]\n",
      " [21 23 25 27 29 31 33 35 37 39]\n",
      " [41 43 45 47 49 51 53 55 57 59]\n",
      " [61 63 65 67 69 71 73 75 77 79]\n",
      " [81 83 85 87 89 91 93 95 97 99]]\n"
     ]
    }
   ],
   "source": [
    "a1 = a.reshape(10,5)\n",
    "b1 = b.reshape(5,10)\n",
    "print(a1)\n",
    "print(b1)\n"
   ]
  },
  {
   "cell_type": "markdown",
   "id": "67d6ca5c-d592-43e1-86dd-aa9235a81082",
   "metadata": {},
   "source": [
    "FLATTEN AND RAVEL\n",
    "\n",
    "Flatten doenot change the actual array but Ravel changes the actual array\n"
   ]
  },
  {
   "cell_type": "code",
   "execution_count": 14,
   "id": "4ccf672b-2064-4662-85c7-0f84ab777f3b",
   "metadata": {},
   "outputs": [
    {
     "name": "stdout",
     "output_type": "stream",
     "text": [
      "[[ 1  2  3  4  5]\n",
      " [ 6  7  8  9 10]\n",
      " [11 12 13 14 15]\n",
      " [16 17 18 19 20]\n",
      " [21 22 23 24 25]\n",
      " [26 27 28 29 30]\n",
      " [31 32 33 34 35]\n",
      " [36 37 38 39 40]\n",
      " [41 42 43 44 45]\n",
      " [46 47 48 49 50]] [ 1  0  3  4  5  6  7  8  9 10 11 12 13 14 15 16 17 18 19 20 21 22 23 24\n",
      " 25 26 27 28 29 30 31 32 33 34 35 36 37 38 39 40 41 42 43 44 45 46 47 48\n",
      " 49 50]\n",
      "[[ 1  0  5  7  9 11 13 15 17 19]\n",
      " [21 23 25 27 29 31 33 35 37 39]\n",
      " [41 43 45 47 49 51 53 55 57 59]\n",
      " [61 63 65 67 69 71 73 75 77 79]\n",
      " [81 83 85 87 89 91 93 95 97 99]] [ 1  0  5  7  9 11 13 15 17 19 21 23 25 27 29 31 33 35 37 39 41 43 45 47\n",
      " 49 51 53 55 57 59 61 63 65 67 69 71 73 75 77 79 81 83 85 87 89 91 93 95\n",
      " 97 99]\n"
     ]
    }
   ],
   "source": [
    "a2 = a1.flatten()\n",
    "b2 = b1.ravel()\n",
    "\n",
    "a2[1] = 0\n",
    "b2[1] = 0\n",
    "\n",
    "print(a1,a2)\n",
    "print(b1,b2)\n",
    "\n",
    "\n"
   ]
  },
  {
   "cell_type": "markdown",
   "id": "43e7d0e6",
   "metadata": {},
   "source": [
    "NUMPY MATHEMATICAL OPERATIONS"
   ]
  },
  {
   "cell_type": "code",
   "execution_count": 18,
   "id": "42de2225",
   "metadata": {},
   "outputs": [
    {
     "name": "stdout",
     "output_type": "stream",
     "text": [
      "[[ 2  5  8 11 14]\n",
      " [17 20 23 26 29]\n",
      " [32 35 38 41 44]\n",
      " [47 50 53 56 59]\n",
      " [62 65 68 71 74]] [[ 2  5  8 11 14]\n",
      " [17 20 23 26 29]\n",
      " [32 35 38 41 44]\n",
      " [47 50 53 56 59]\n",
      " [62 65 68 71 74]]\n",
      "[[  0  -1  -2  -3  -4]\n",
      " [ -5  -6  -7  -8  -9]\n",
      " [-10 -11 -12 -13 -14]\n",
      " [-15 -16 -17 -18 -19]\n",
      " [-20 -21 -22 -23 -24]] [[  0  -1  -2  -3  -4]\n",
      " [ -5  -6  -7  -8  -9]\n",
      " [-10 -11 -12 -13 -14]\n",
      " [-15 -16 -17 -18 -19]\n",
      " [-20 -21 -22 -23 -24]]\n",
      "[[   1    6   15   28   45]\n",
      " [  66   91  120  153  190]\n",
      " [ 231  276  325  378  435]\n",
      " [ 496  561  630  703  780]\n",
      " [ 861  946 1035 1128 1225]] [[   1    6   15   28   45]\n",
      " [  66   91  120  153  190]\n",
      " [ 231  276  325  378  435]\n",
      " [ 496  561  630  703  780]\n",
      " [ 861  946 1035 1128 1225]]\n",
      "[[1.         0.66666667 0.6        0.57142857 0.55555556]\n",
      " [0.54545455 0.53846154 0.53333333 0.52941176 0.52631579]\n",
      " [0.52380952 0.52173913 0.52       0.51851852 0.51724138]\n",
      " [0.51612903 0.51515152 0.51428571 0.51351351 0.51282051]\n",
      " [0.51219512 0.51162791 0.51111111 0.5106383  0.51020408]]\n",
      "[[ 415  445  475  505  535]\n",
      " [ 940 1020 1100 1180 1260]\n",
      " [1465 1595 1725 1855 1985]\n",
      " [1990 2170 2350 2530 2710]\n",
      " [2515 2745 2975 3205 3435]]\n"
     ]
    }
   ],
   "source": [
    "x = np.arange(1,26).reshape(5,5)\n",
    "y = np.arange(1,51,2).reshape(5,5)\n",
    "\n",
    "print(np.add(x,y), x+y)\n",
    "print(np.subtract(x,y), x-y)\n",
    "print(np.multiply(x,y),x*y)\n",
    "print(x/y)\n",
    "\n",
    "print(x@y)\n"
   ]
  },
  {
   "cell_type": "code",
   "execution_count": 19,
   "id": "fec233b8",
   "metadata": {},
   "outputs": [
    {
     "name": "stdout",
     "output_type": "stream",
     "text": [
      "2497\n"
     ]
    }
   ],
   "source": [
    "print(np.sum(b,axis=0))\n"
   ]
  },
  {
   "cell_type": "code",
   "execution_count": 20,
   "id": "25890dfe",
   "metadata": {},
   "outputs": [
    {
     "name": "stdout",
     "output_type": "stream",
     "text": [
      "3.141592653589793\n"
     ]
    }
   ],
   "source": [
    "print(np.pi)"
   ]
  },
  {
   "cell_type": "code",
   "execution_count": 26,
   "id": "ec486e5f",
   "metadata": {},
   "outputs": [
    {
     "name": "stdout",
     "output_type": "stream",
     "text": [
      "0.0\n"
     ]
    }
   ],
   "source": [
    "print(np.sin(0))"
   ]
  },
  {
   "cell_type": "code",
   "execution_count": 27,
   "id": "77d396eb",
   "metadata": {},
   "outputs": [
    {
     "name": "stdout",
     "output_type": "stream",
     "text": [
      "0.22680659390731284\n"
     ]
    }
   ],
   "source": [
    "print(np.random.random())"
   ]
  },
  {
   "cell_type": "code",
   "execution_count": 33,
   "id": "2881361c",
   "metadata": {},
   "outputs": [
    {
     "data": {
      "text/plain": [
       "array([0.16459065, 0.4588154 ])"
      ]
     },
     "execution_count": 33,
     "metadata": {},
     "output_type": "execute_result"
    }
   ],
   "source": [
    "np.random.random(2)"
   ]
  },
  {
   "cell_type": "code",
   "execution_count": 44,
   "id": "c002fc43",
   "metadata": {},
   "outputs": [
    {
     "data": {
      "text/plain": [
       "array([[0.05597297, 0.43047166, 0.46753183, 0.87191029],\n",
       "       [0.84619097, 0.12674219, 0.07169001, 0.63851148]])"
      ]
     },
     "execution_count": 44,
     "metadata": {},
     "output_type": "execute_result"
    }
   ],
   "source": [
    "np.random.random((2,4))"
   ]
  },
  {
   "cell_type": "code",
   "execution_count": 52,
   "id": "9c116fc4",
   "metadata": {},
   "outputs": [
    {
     "data": {
      "text/plain": [
       "5"
      ]
     },
     "execution_count": 52,
     "metadata": {},
     "output_type": "execute_result"
    }
   ],
   "source": [
    "np.random.randint(4,6)"
   ]
  },
  {
   "cell_type": "code",
   "execution_count": 53,
   "id": "fdd40b54",
   "metadata": {},
   "outputs": [
    {
     "data": {
      "text/plain": [
       "array([[4, 1, 8, 7, 1]], dtype=int32)"
      ]
     },
     "execution_count": 53,
     "metadata": {},
     "output_type": "execute_result"
    }
   ],
   "source": [
    "np.random.randint(1,10,(1,5))"
   ]
  },
  {
   "cell_type": "code",
   "execution_count": 59,
   "id": "9630526b",
   "metadata": {},
   "outputs": [
    {
     "data": {
      "text/plain": [
       "array([[0.85785521, 0.27332182],\n",
       "       [0.73366591, 0.29810682]])"
      ]
     },
     "execution_count": 59,
     "metadata": {},
     "output_type": "execute_result"
    }
   ],
   "source": [
    "np.random.rand(2,2)\n"
   ]
  },
  {
   "cell_type": "code",
   "execution_count": 60,
   "id": "2c6ab462",
   "metadata": {},
   "outputs": [
    {
     "data": {
      "text/plain": [
       "array([[ 1.00971602,  0.90751758],\n",
       "       [-1.05025887, -1.20392525]])"
      ]
     },
     "execution_count": 60,
     "metadata": {},
     "output_type": "execute_result"
    }
   ],
   "source": [
    "np.random.randn(2,2)"
   ]
  },
  {
   "cell_type": "code",
   "execution_count": 67,
   "id": "8b0e7950",
   "metadata": {},
   "outputs": [
    {
     "data": {
      "text/plain": [
       "np.int64(28)"
      ]
     },
     "execution_count": 67,
     "metadata": {},
     "output_type": "execute_result"
    }
   ],
   "source": [
    "ax = np.arange(1,51).reshape(5,10).flatten()\n",
    "np.random.choice(ax)"
   ]
  },
  {
   "cell_type": "code",
   "execution_count": 70,
   "id": "d103d472",
   "metadata": {},
   "outputs": [
    {
     "data": {
      "text/plain": [
       "np.str_('Iam Abhilash \\n and I love Shweta')"
      ]
     },
     "execution_count": 70,
     "metadata": {},
     "output_type": "execute_result"
    }
   ],
   "source": [
    "str1 = \"Iam Abhilash\"\n",
    "str2 = \" \\n and I love Shweta\"\n",
    "\n",
    "np.char.add(str1,str2)\n"
   ]
  },
  {
   "cell_type": "code",
   "execution_count": 72,
   "id": "03aa4394",
   "metadata": {},
   "outputs": [
    {
     "data": {
      "text/plain": [
       "array(list(['Iam', 'Abhilash', 'and', 'I', 'love', 'Shweta']),\n",
       "      dtype=object)"
      ]
     },
     "execution_count": 72,
     "metadata": {},
     "output_type": "execute_result"
    }
   ],
   "source": [
    "np.char.split(np.char.add(str1,str2))"
   ]
  },
  {
   "cell_type": "code",
   "execution_count": 73,
   "id": "103945a1",
   "metadata": {},
   "outputs": [
    {
     "data": {
      "text/plain": [
       "array(list(['Iam Abhilash ', ' and I love Shweta']), dtype=object)"
      ]
     },
     "execution_count": 73,
     "metadata": {},
     "output_type": "execute_result"
    }
   ],
   "source": [
    "np.char.splitlines(np.char.add(str1,str2))"
   ]
  },
  {
   "cell_type": "code",
   "execution_count": 76,
   "id": "adf8b732",
   "metadata": {},
   "outputs": [
    {
     "data": {
      "text/plain": [
       "array('ssssssssabhissssssss', dtype='<U20')"
      ]
     },
     "execution_count": 76,
     "metadata": {},
     "output_type": "execute_result"
    }
   ],
   "source": [
    "np.char.center(\"abhi\", 20, \"s\")"
   ]
  },
  {
   "cell_type": "code",
   "execution_count": null,
   "id": "6065901e",
   "metadata": {},
   "outputs": [],
   "source": []
  }
 ],
 "metadata": {
  "kernelspec": {
   "display_name": "Python 3 (ipykernel)",
   "language": "python",
   "name": "python3"
  },
  "language_info": {
   "codemirror_mode": {
    "name": "ipython",
    "version": 3
   },
   "file_extension": ".py",
   "mimetype": "text/x-python",
   "name": "python",
   "nbconvert_exporter": "python",
   "pygments_lexer": "ipython3",
   "version": "3.12.4"
  }
 },
 "nbformat": 4,
 "nbformat_minor": 5
}
