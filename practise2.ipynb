{
 "cells": [
  {
   "cell_type": "markdown",
   "metadata": {},
   "source": [
    "PRACTISE QUESTIONs"
   ]
  },
  {
   "cell_type": "code",
   "execution_count": 1,
   "metadata": {},
   "outputs": [],
   "source": [
    "import numpy as np"
   ]
  },
  {
   "cell_type": "markdown",
   "metadata": {},
   "source": [
    "1. create 5*5 matrix and print the middle 3*3 matrix\n"
   ]
  },
  {
   "cell_type": "code",
   "execution_count": 9,
   "metadata": {},
   "outputs": [
    {
     "name": "stdout",
     "output_type": "stream",
     "text": [
      "[[0.96003394 0.56870021 0.14109863 0.93328024 0.22984999]\n",
      " [0.94491272 0.35050288 0.34480052 0.70607738 0.52984506]\n",
      " [0.43309102 0.01210983 0.70438741 0.11560726 0.27571329]\n",
      " [0.43436794 0.89390798 0.64276436 0.7968678  0.7377052 ]\n",
      " [0.00922562 0.91510502 0.01285736 0.48436909 0.49980205]]\n"
     ]
    },
    {
     "data": {
      "text/plain": [
       "array([[0.35050288, 0.34480052, 0.70607738],\n",
       "       [0.01210983, 0.70438741, 0.11560726],\n",
       "       [0.89390798, 0.64276436, 0.7968678 ]])"
      ]
     },
     "execution_count": 9,
     "metadata": {},
     "output_type": "execute_result"
    }
   ],
   "source": [
    "arr = np.random.random(25).reshape(5,5)\n",
    "print(arr)\n",
    "arr2=[]\n",
    "\n",
    "\n",
    "for i in range(len(arr)):\n",
    "    for j in range(len(arr[0])):\n",
    "        if i==0 or i==(len(arr)-1):\n",
    "            break\n",
    "        else:\n",
    "            if (j==0) or (j==(len(arr[0])-1)):\n",
    "                continue\n",
    "            else:\n",
    "                arr2.append(arr[i][j])\n",
    "np.array(arr2).reshape(3,3)\n",
    "    \n",
    "\n"
   ]
  },
  {
   "cell_type": "markdown",
   "metadata": {},
   "source": [
    "2.Concatenate two 1-dimensional arrays of length 5."
   ]
  },
  {
   "cell_type": "code",
   "execution_count": 16,
   "metadata": {},
   "outputs": [
    {
     "name": "stdout",
     "output_type": "stream",
     "text": [
      "[[0 1]\n",
      " [2 3]] [[0 1]\n",
      " [2 3]]\n",
      "[[0 1]\n",
      " [2 3]\n",
      " [0 1]\n",
      " [2 3]]\n",
      "[[0 1 0 1]\n",
      " [2 3 2 3]]\n"
     ]
    }
   ],
   "source": [
    "a = np.arange(4).reshape(2,2)\n",
    "b = np.arange(4).reshape(2,2)\n",
    "print(a,b)\n",
    "print(np.concatenate((a,b), axis=0))# rows\n",
    "print(np.concatenate((a,b), axis=1))#cols"
   ]
  },
  {
   "cell_type": "markdown",
   "metadata": {},
   "source": [
    "3. Create a 5x5 matrix with random integers. Find the maximum, minimum, and mean of the matrix."
   ]
  },
  {
   "cell_type": "code",
   "execution_count": 20,
   "metadata": {},
   "outputs": [
    {
     "name": "stdout",
     "output_type": "stream",
     "text": [
      "24\n",
      "1\n",
      "11.32\n",
      "7.508501847905479\n",
      "[[2.82842712 1.         3.74165739 1.         4.12310563]\n",
      " [2.82842712 3.46410162 1.         3.60555128 4.47213595]\n",
      " [4.79583152 2.44948974 1.41421356 4.12310563 4.35889894]\n",
      " [4.89897949 2.23606798 4.47213595 1.73205081 4.69041576]\n",
      " [3.         4.35889894 2.82842712 2.         2.64575131]]\n",
      "[[2.07944154 0.         2.63905733 0.         2.83321334]\n",
      " [2.07944154 2.48490665 0.         2.56494936 2.99573227]\n",
      " [3.13549422 1.79175947 0.69314718 2.83321334 2.94443898]\n",
      " [3.17805383 1.60943791 2.99573227 1.09861229 3.09104245]\n",
      " [2.19722458 2.94443898 2.07944154 1.38629436 1.94591015]]\n"
     ]
    }
   ],
   "source": [
    "mat = np.random.randint(1,25,(5,5))\n",
    "print(np.max(mat))\n",
    "print(np.min(mat))\n",
    "print(np.mean(mat))\n",
    "print(np.std(mat))\n",
    "print(np.sqrt(mat))\n",
    "print(np.log(mat))\n"
   ]
  },
  {
   "cell_type": "markdown",
   "metadata": {},
   "source": [
    "4. Create an array of 100 random values from a normal distribution and compute the 25th, 50th, and 75th percentiles.\n",
    "\n",
    "\n",
    "solution: 1. sort the data in assending order\n",
    "         "
   ]
  },
  {
   "cell_type": "markdown",
   "metadata": {},
   "source": [
    "  2. calculate the rank(R) = P*(N+1) {where P = percentile(25%), N= len of the array}\n",
    "        \n",
    "  3. if the R is integeger then the value at the percentile is the arr[R]\n",
    "\n",
    "  4. if R is not an inetger for example 1.5 then the value at the perentile is average(arr[1],arr[2])"
   ]
  },
  {
   "cell_type": "code",
   "execution_count": 27,
   "metadata": {},
   "outputs": [
    {
     "name": "stdout",
     "output_type": "stream",
     "text": [
      "[8 1 5 3 1 2 8 8 7 1]\n",
      "[1.25 4.  ]\n"
     ]
    }
   ],
   "source": [
    "random_array = np.array(np.random.randint(1,10,(10)))\n",
    "print(random_array)\n",
    "percentiles = np.percentile(random_array,[25,50])\n",
    "print(percentiles)"
   ]
  },
  {
   "cell_type": "markdown",
   "metadata": {},
   "source": [
    "COMCEPT OF BOOLEAN INDEXING\n",
    "\n",
    "arr[arr%2==0] --> this prints all the even numbers in the array travelling all the elements"
   ]
  },
  {
   "cell_type": "code",
   "execution_count": 29,
   "metadata": {},
   "outputs": [
    {
     "name": "stdout",
     "output_type": "stream",
     "text": [
      "[3 1 7 8 2 3]\n"
     ]
    },
    {
     "data": {
      "text/plain": [
       "array([8, 2], dtype=int32)"
      ]
     },
     "execution_count": 29,
     "metadata": {},
     "output_type": "execute_result"
    }
   ],
   "source": [
    "barr = np.array(np.random.randint(1,10,(6)))\n",
    "print(barr)\n",
    "barr[barr%2==0]"
   ]
  },
  {
   "cell_type": "code",
   "execution_count": null,
   "metadata": {},
   "outputs": [],
   "source": []
  }
 ],
 "metadata": {
  "kernelspec": {
   "display_name": "Python 3",
   "language": "python",
   "name": "python3"
  },
  "language_info": {
   "codemirror_mode": {
    "name": "ipython",
    "version": 3
   },
   "file_extension": ".py",
   "mimetype": "text/x-python",
   "name": "python",
   "nbconvert_exporter": "python",
   "pygments_lexer": "ipython3",
   "version": "3.12.4"
  }
 },
 "nbformat": 4,
 "nbformat_minor": 2
}
